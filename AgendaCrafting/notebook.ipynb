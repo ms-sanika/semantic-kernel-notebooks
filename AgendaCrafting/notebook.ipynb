{
 "cells": [
  {
   "cell_type": "markdown",
   "metadata": {},
   "source": [
    "## Agenda Builder \n",
    "\n",
    "Microsoft Technology Centers (MTCs) are collaborative environments that provide access to innovative technologies and world-class expertise, enabling customers to envision, design, and deploy solutions to meet their exact needs. MTCs deliver immersive experiences and deep technical engagements in 40+ locations around the world. Senior architects at MTCs help customers understand what’s possible and make it real by creating solutions to achieve business outcomes. \n",
    "\n",
    "We employ Semantic Kernel and Azure OpenAI to craft personalized agendas that we can send to our customers, featuring Microsoft solutions that can help in the digital transformation journey."
   ]
  },
  {
   "cell_type": "markdown",
   "metadata": {},
   "source": [
    "# List for AI-driven Plugin🔌\n",
    "\n",
    "- Utilize Microsoft Graph API endpoint to retrieve online meeting transcripts\n",
    "- Semantic Plugin AgendaContent to act as a MTC Technical Architect crafting an agenda."
   ]
  },
  {
   "cell_type": "markdown",
   "metadata": {},
   "source": [
    "> [!IMPORTANT]\n",
    "> You will need an [.Net 7 SDK](https://dotnet.microsoft.com/en-us/download) and [Polyglot](https://marketplace.visualstudio.com/items?itemName=ms-dotnettools.dotnet-interactive-vscode) to get started with this notebook using .Net Interactive"
   ]
  },
  {
   "cell_type": "markdown",
   "metadata": {},
   "source": [
    "# Prerequisites 🗒️\n",
    "\n",
    "When running the following cell, if asked to \"select your kernel\" (note this will be referring to the Jupyter notebook's kernel and not Semantic Kernel) then choose `.NET Interactive` from the available menu options."
   ]
  },
  {
   "cell_type": "code",
   "execution_count": 8,
   "metadata": {
    "dotnet_interactive": {
     "language": "csharp"
    },
    "polyglot_notebook": {
     "kernelName": "csharp"
    },
    "vscode": {
     "languageId": "polyglot-notebook"
    }
   },
   "outputs": [
    {
     "data": {
      "text/html": [
       "<div><div></div><div></div><div><strong>Installed Packages</strong><ul><li><span>Microsoft.SemanticKernel, 1.0.0-beta6</span></li></ul></div></div>"
      ]
     },
     "metadata": {},
     "output_type": "display_data"
    }
   ],
   "source": [
    "// Load some helper functions, e.g. to load values from settings.json\n",
    "#!import ../config/Settings.cs\n",
    "#!import ../plugins/GraphSkill.cs\n",
    "#r \"nuget: Microsoft.SemanticKernel, 1.0.0-beta6\""
   ]
  },
  {
   "cell_type": "markdown",
   "metadata": {},
   "source": [
    "# Initialize the Kernel &#x1F525;\n",
    " Semantic Kernel comes with handy built-in HTTP plugins.  We're also importing semantic functions that transform meeting transcripts into an agenda."
   ]
  },
  {
   "cell_type": "code",
   "execution_count": 14,
   "metadata": {
    "dotnet_interactive": {
     "language": "csharp"
    },
    "polyglot_notebook": {
     "kernelName": "csharp"
    },
    "vscode": {
     "languageId": "polyglot-notebook"
    }
   },
   "outputs": [
    {
     "name": "stdout",
     "output_type": "stream",
     "text": [
      "Using 🧱 Model: gpt-35-turbo\n",
      "Plugins loaded\n"
     ]
    }
   ],
   "source": [
    "using Microsoft.SemanticKernel;\n",
    "using Microsoft.SemanticKernel.Plugins.Core;\n",
    "using System;\n",
    "\n",
    "// Create an instance of the kernel builder\n",
    "var builder = new KernelBuilder();\n",
    "\n",
    "// Load settings from a file\n",
    "var (useAzureOpenAI, model, azureEndpoint, apiKey) = Settings.LoadFromFile();\n",
    "Console.WriteLine($\"Using 🧱 Model: {model}\");\n",
    "\n",
    "// Add the default services\n",
    "builder.WithAzureOpenAIChatCompletionService(model, azureEndpoint, apiKey);\n",
    "\n",
    "// Build the kernel\n",
    "IKernel kernel = builder.Build();\n",
    "\n",
    "// Load the Plugins\n",
    "var pluginsDirectory = Path.Combine(System.IO.Directory.GetCurrentDirectory());\n",
    "var username = \"admin@MngEnvMCAP681178.onmicrosoft.com\";\n",
    "\n",
    "var msGraph = kernel.ImportFunctions(new GraphSkill(username), \"GraphSkill\");\n",
    "var agendaPlugin = kernel.ImportSemanticFunctionsFromDirectory(\"plugins-sk\", \"AgendaPlans\");\n",
    "\n",
    "Console.WriteLine(\"Plugins loaded\", agendaPlugin);\n"
   ]
  },
  {
   "cell_type": "markdown",
   "metadata": {},
   "source": [
    "# Trial run, test the data source with input 📄 of your choice"
   ]
  },
  {
   "cell_type": "code",
   "execution_count": 15,
   "metadata": {
    "dotnet_interactive": {
     "language": "csharp"
    },
    "polyglot_notebook": {
     "kernelName": "csharp"
    },
    "vscode": {
     "languageId": "polyglot-notebook"
    }
   },
   "outputs": [
    {
     "name": "stdout",
     "output_type": "stream",
     "text": [
      "Agenda for Microsoft Security Meeting:\r\n",
      "\r\n",
      "1. Introduction and Welcome\r\n",
      "- Brief introduction of all attendees\r\n",
      "- Welcome message from the Senior Architect\r\n",
      "\r\n",
      "2. Overview of Microsoft Security\r\n",
      "- Overview of Microsoft's security strategy and approach\r\n",
      "- Discussion of Microsoft's security products and services\r\n",
      "\r\n",
      "3. Threat Landscape\r\n",
      "- Discussion of the current threat landscape and emerging threats\r\n",
      "- Review of recent security incidents and their impact\r\n",
      "\r\n",
      "4. Security Best Practices\r\n",
      "- Discussion of security best practices for organizations\r\n",
      "- Review of Microsoft's recommended security practices\r\n",
      "\r\n",
      "5. Compliance and Regulations\r\n",
      "- Discussion of compliance and regulatory requirements\r\n",
      "- Review of Microsoft's compliance and regulatory certifications\r\n",
      "\r\n",
      "6. Security Roadmap\r\n",
      "- Discussion of Microsoft's security roadmap\r\n",
      "- Review of upcoming security features and enhancements\r\n",
      "\r\n",
      "7. Q&A\r\n",
      "- Open forum for questions and discussion\r\n",
      "\r\n",
      "8. Next Steps\r\n",
      "- Summary of key takeaways from the meeting\r\n",
      "- Discussion of next steps and follow-up actions\r\n",
      "\r\n",
      "9. Closing Remarks\r\n",
      "- Final thoughts and closing remarks from the Senior Architect.\r\n"
     ]
    }
   ],
   "source": [
    "using Microsoft.SemanticKernel.Orchestration;\n",
    "using Microsoft.SemanticKernel.Plugins.Core;\n",
    "\n",
    "var results = await kernel.RunAsync(\"Hello, we would like to discuss Microsoft Security\", agendaPlugin[\"TestData\"]);\n",
    "\n",
    "var resultString = results.GetValue<string>();\n",
    "\n",
    "Console.WriteLine(resultString);\n"
   ]
  },
  {
   "cell_type": "markdown",
   "metadata": {},
   "source": [
    "## Introducing Context Variables to add history of the conversation"
   ]
  },
  {
   "cell_type": "markdown",
   "metadata": {},
   "source": [
    "Initializing your Context..."
   ]
  },
  {
   "cell_type": "markdown",
   "metadata": {},
   "source": [
    "Note: The context is local (i.e. in your computer's RAM) and not persisted anywhere beyond the life of this notebook session."
   ]
  },
  {
   "cell_type": "code",
   "execution_count": 16,
   "metadata": {
    "dotnet_interactive": {
     "language": "csharp"
    },
    "polyglot_notebook": {
     "kernelName": "csharp"
    },
    "vscode": {
     "languageId": "polyglot-notebook"
    }
   },
   "outputs": [
    {
     "name": "stdout",
     "output_type": "stream",
     "text": [
      "MTC Philadelphia:This is Todd from MTC Philadelphia.Good morning,thank you for accepting the meeting invite.Sheelen,Frank:Good morning,Todd.Thank you for setting this up.Todd Furst:I understand you are interested in learning more about Microsoft Teams Calling.Sheelen,Frank:Yes,we are.We are currently using Skype for Business and we are looking to move to Teams.Todd Furst:Great.I can help you with that.I have a few questions to get us started.Is that okay?Sheelen,Frank:Sure.Todd Furst:Great.What is your current phone system?What are some of the challenges you are looking to overcome or may be quick wins. Sheelen,Frank:We are using a Cisco phone system.We are looking to move to Teams to take advantage of the new features and to reduce our costs.Todd Furst:Great.I know that we are looking for the MTC session scheduled for September 25th if I remember correctly.Is that correct?Sheelen,Frank:No,actually it is scheduled for September 27th.Todd Furst:Oh yes.Let me make sure that is reflected on our calendar.I will send you an invite along with the agenda for the day.Sheelen,Frank:Great.Thank you.Todd Furst:You are welcome.One last question.Do we have a partner involved for this project?Sheelen,Frank:Yes,we are working with a partner.They are helping us with the migration.Todd Furst:Great.I will make sure to confirm the availability of the relvant stakeholders for the session.I will send you an invite along with the agenda for the day.Sheelen,Frank:Great.Thank you.Todd Furst:Ok,I'll see you folks on the 27th.Have a great day.Sheelen,Frank:You too.Bye.\n",
      "Agenda for Microsoft Teams Calling Meeting:\n",
      "\n",
      "1. Introduction and Welcome\n",
      "- Introductions of all attendees\n",
      "- Purpose of the meeting\n",
      "\n",
      "2. Current Phone System and Challenges\n",
      "- Discussion of the current phone system being used (Cisco)\n",
      "- Challenges faced with the current system\n",
      "- Opportunities for improvement\n",
      "\n",
      "3. Microsoft Teams Calling Features\n",
      "- Overview of Microsoft Teams Calling features\n",
      "- Benefits of using Teams Calling over the current system\n",
      "- Discussion of potential quick wins\n",
      "\n",
      "4. Migration Plan\n",
      "- Discussion of the migration plan from the current system to Teams Calling\n",
      "- Roles and responsibilities of all stakeholders involved\n",
      "- Timeline for the migration\n",
      "\n",
      "5. Partner Involvement\n",
      "- Discussion of the partner involved in the project\n",
      "- Their role in the migration process\n",
      "- Coordination with the partner for a successful migration\n",
      "\n",
      "6. Next Steps\n",
      "- Recap of the meeting\n",
      "- Action items for all stakeholders\n",
      "- Schedule follow-up meetings as needed\n",
      "\n",
      "7. Closing\n",
      "- Final thoughts and comments\n",
      "- Thank you to all attendees for their time and participation.\n"
     ]
    }
   ],
   "source": [
    "using Microsoft.SemanticKernel.Orchestration;\n",
    "using Microsoft.SemanticKernel.Plugins.Core;\n",
    "using Microsoft.SemanticKernel.Planners;\n",
    "\n",
    "var context = kernel.CreateNewContext();\n",
    "var history = \"\";\n",
    "\n",
    "context.Variables[\"history\"] = history;\n",
    "\n",
    "// change this to transcript content of your meeting\n",
    "history += \"Hello, we would like to discuss Microsoft Azure Open AI\";\n",
    "\n",
    "context.Variables.Update(history);\n",
    "\n",
    "Console.WriteLine(context);\n",
    "\n",
    "var results = await kernel.RunAsync(history, agendaPlugin[\"AgendaContent\"]);\n",
    "var resultString = results.GetValue<string>();\n",
    "\n",
    "var plannerConfig = new SequentialPlannerConfig();\n",
    "//plannerConfig.ExcludedFunctions.Add(\"Summarize\");\n",
    "var planner = new SequentialPlanner(kernel, plannerConfig);\n",
    "\n",
    "Console.WriteLine(resultString);"
   ]
  },
  {
   "cell_type": "markdown",
   "metadata": {},
   "source": [
    "# Use planner and several🔌PLUGINs with 📄 ASK of your choice"
   ]
  },
  {
   "cell_type": "code",
   "execution_count": 17,
   "metadata": {
    "dotnet_interactive": {
     "language": "csharp"
    },
    "polyglot_notebook": {
     "kernelName": "csharp"
    },
    "vscode": {
     "languageId": "polyglot-notebook"
    }
   },
   "outputs": [
    {
     "name": "stdout",
     "output_type": "stream",
     "text": [
      "Using Plan: What are the steps to build an agenda?\r\n"
     ]
    },
    {
     "data": {
      "text/html": [
       "<details open=\"open\" class=\"dni-treeview\"><summary><span class=\"dni-code-hint\"><code>Microsoft.SemanticKernel.Planning.Plan</code></span></summary><div><table><thead><tr></tr></thead><tbody><tr><td>State</td><td><i>(empty)</i></td></tr><tr><td>Steps</td><td><table><thead><tr><th><i>index</i></th><th>value</th></tr></thead><tbody><tr><td>0</td><td><details class=\"dni-treeview\"><summary><span class=\"dni-code-hint\"><code>Microsoft.SemanticKernel.Planning.Plan</code></span></summary><div><table><thead><tr></tr></thead><tbody><tr><td>State</td><td><i>(empty)</i></td></tr><tr><td>Steps</td><td><i>(empty)</i></td></tr><tr><td>Parameters</td><td><i>(empty)</i></td></tr><tr><td>Outputs</td><td><div class=\"dni-plaintext\"><pre>[ AGENDA_DATA ]</pre></div></td></tr><tr><td>HasNextStep</td><td><div class=\"dni-plaintext\"><pre>False</pre></div></td></tr><tr><td>NextStepIndex</td><td><div class=\"dni-plaintext\"><pre>0</pre></div></td></tr><tr><td>Name</td><td><div class=\"dni-plaintext\"><pre>TestData</pre></div></td></tr><tr><td>PluginName</td><td><div class=\"dni-plaintext\"><pre>AgendaPlans</pre></div></td></tr><tr><td>Description</td><td><div class=\"dni-plaintext\"><pre></pre></div></td></tr><tr><td>ModelSettings</td><td><div class=\"dni-plaintext\"><pre>&lt;null&gt;</pre></div></td></tr><tr><td>RequestSettings</td><td><div class=\"dni-plaintext\"><pre>&lt;null&gt;</pre></div></td></tr><tr><td>SkillName</td><td><div class=\"dni-plaintext\"><pre>AgendaPlans</pre></div></td></tr><tr><td>IsSemantic</td><td><div class=\"dni-plaintext\"><pre>True</pre></div></td></tr></tbody></table></div></details></td></tr><tr><td>1</td><td><details class=\"dni-treeview\"><summary><span class=\"dni-code-hint\"><code>Microsoft.SemanticKernel.Planning.Plan</code></span></summary><div><table><thead><tr></tr></thead><tbody><tr><td>State</td><td><i>(empty)</i></td></tr><tr><td>Steps</td><td><i>(empty)</i></td></tr><tr><td>Parameters</td><td><table><thead><tr><th><i>key</i></th><th>value</th></tr></thead><tbody><tr><td><div class=\"dni-plaintext\"><pre>input</pre></div></td><td><div class=\"dni-plaintext\"><pre>$AGENDA_DATA</pre></div></td></tr></tbody></table></td></tr><tr><td>Outputs</td><td><div class=\"dni-plaintext\"><pre>[ AGENDA_CONTENT ]</pre></div></td></tr><tr><td>HasNextStep</td><td><div class=\"dni-plaintext\"><pre>False</pre></div></td></tr><tr><td>NextStepIndex</td><td><div class=\"dni-plaintext\"><pre>0</pre></div></td></tr><tr><td>Name</td><td><div class=\"dni-plaintext\"><pre>AgendaContent</pre></div></td></tr><tr><td>PluginName</td><td><div class=\"dni-plaintext\"><pre>AgendaPlans</pre></div></td></tr><tr><td>Description</td><td><div class=\"dni-plaintext\"><pre></pre></div></td></tr><tr><td>ModelSettings</td><td><div class=\"dni-plaintext\"><pre>&lt;null&gt;</pre></div></td></tr><tr><td>RequestSettings</td><td><div class=\"dni-plaintext\"><pre>&lt;null&gt;</pre></div></td></tr><tr><td>SkillName</td><td><div class=\"dni-plaintext\"><pre>AgendaPlans</pre></div></td></tr><tr><td>IsSemantic</td><td><div class=\"dni-plaintext\"><pre>True</pre></div></td></tr></tbody></table></div></details></td></tr></tbody></table></td></tr><tr><td>Parameters</td><td><i>(empty)</i></td></tr><tr><td>Outputs</td><td><div class=\"dni-plaintext\"><pre>[  ]</pre></div></td></tr><tr><td>HasNextStep</td><td><div class=\"dni-plaintext\"><pre>True</pre></div></td></tr><tr><td>NextStepIndex</td><td><div class=\"dni-plaintext\"><pre>0</pre></div></td></tr><tr><td>Name</td><td><div class=\"dni-plaintext\"><pre>plana60ae0ef82384371987de957339d8067</pre></div></td></tr><tr><td>PluginName</td><td><div class=\"dni-plaintext\"><pre>Plan</pre></div></td></tr><tr><td>Description</td><td><div class=\"dni-plaintext\"><pre>What are the steps to build an agenda?</pre></div></td></tr><tr><td>ModelSettings</td><td><div class=\"dni-plaintext\"><pre>&lt;null&gt;</pre></div></td></tr><tr><td>RequestSettings</td><td><div class=\"dni-plaintext\"><pre>&lt;null&gt;</pre></div></td></tr><tr><td>SkillName</td><td><div class=\"dni-plaintext\"><pre>Plan</pre></div></td></tr><tr><td>IsSemantic</td><td><div class=\"dni-plaintext\"><pre>False</pre></div></td></tr></tbody></table></div></details><style>\r\n",
       ".dni-code-hint {\r\n",
       "    font-style: italic;\r\n",
       "    overflow: hidden;\r\n",
       "    white-space: nowrap;\r\n",
       "}\r\n",
       ".dni-treeview {\r\n",
       "    white-space: nowrap;\r\n",
       "}\r\n",
       ".dni-treeview td {\r\n",
       "    vertical-align: top;\r\n",
       "    text-align: start;\r\n",
       "}\r\n",
       "details.dni-treeview {\r\n",
       "    padding-left: 1em;\r\n",
       "}\r\n",
       "table td {\r\n",
       "    text-align: start;\r\n",
       "}\r\n",
       "table tr { \r\n",
       "    vertical-align: top; \r\n",
       "    margin: 0em 0px;\r\n",
       "}\r\n",
       "table tr td pre \r\n",
       "{ \r\n",
       "    vertical-align: top !important; \r\n",
       "    margin: 0em 0px !important;\r\n",
       "} \r\n",
       "table th {\r\n",
       "    text-align: start;\r\n",
       "}\r\n",
       "</style>"
      ]
     },
     "metadata": {},
     "output_type": "display_data"
    },
    {
     "name": "stdout",
     "output_type": "stream",
     "text": [
      "Microsoft.DotNet.Interactive.DisplayedValue\r\n"
     ]
    }
   ],
   "source": [
    "using Microsoft.SemanticKernel.Orchestration;\n",
    "using Microsoft.SemanticKernel.Plugins.Core;\n",
    "\n",
    "var plan = await planner.CreatePlanAsync(\"What are the steps to build an agenda?\");\n",
    "\n",
    "Console.WriteLine($\"Using Plan: {plan.Description}\");\n",
    "Console.WriteLine($\"{plan.Display()}\");"
   ]
  }
 ],
 "metadata": {
  "language_info": {
   "name": "python"
  }
 },
 "nbformat": 4,
 "nbformat_minor": 2
}
