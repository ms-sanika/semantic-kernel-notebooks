{
 "cells": [
  {
   "cell_type": "markdown",
   "metadata": {},
   "source": [
    "The following code will ask a few questions and save the settings to a local\n",
    "`settings.json` configuration file, under the [config](config) folder. You can\n",
    "also edit the file manually if you prefer. **Please keep the file safe.**\n",
    "\n",
    "## Step 1\n",
    "\n",
    "First step: choose whether you want to use the notebooks with Azure OpenAI or OpenAI,\n",
    "setting the `useAzureOpenAI` boolean below."
   ]
  },
  {
   "cell_type": "code",
   "execution_count": 1,
   "metadata": {
    "dotnet_interactive": {
     "language": "csharp"
    },
    "polyglot_notebook": {
     "kernelName": "csharp"
    }
   },
   "outputs": [],
   "source": [
    "bool useAzureOpenAI = true;"
   ]
  },
  {
   "cell_type": "markdown",
   "metadata": {},
   "source": [
    "## Step 2\n",
    "\n",
    "Run the following code. There should be a dialog box at the top of your VS Code window asking you to enter the key.  You may also directly edit your settings.json file.\n",
    "\n",
    "If you need to find the your key and can't do this right now, just hit the 'ESC' key. You can re-run the code and continue from where you left off later. Without adding an OpenAI or Azure OpenAI key, you won't be able to do anything — so be sure to finish this step."
   ]
  },
  {
   "cell_type": "code",
   "execution_count": 2,
   "metadata": {
    "dotnet_interactive": {
     "language": "csharp"
    },
    "polyglot_notebook": {
     "kernelName": "csharp"
    }
   },
   "outputs": [
    {
     "name": "stdout",
     "output_type": "stream",
     "text": [
      "Settings: OK: Azure OpenAI endpoint configured [../config/settings.json]\n",
      "Settings: OK: deployment name configured [../config/settings.json]\n",
      "Settings: OK: API key configured [../config/settings.json]\n"
     ]
    }
   ],
   "source": [
    "#!import ../config/Settings.cs\n",
    "\n",
    "await Settings.AskAzureEndpoint(useAzureOpenAI);\n",
    "await Settings.AskModel(useAzureOpenAI);\n",
    "await Settings.AskApiKey(useAzureOpenAI);\n"
   ]
  },
  {
   "cell_type": "markdown",
   "metadata": {},
   "source": [
    "If the code above doesn't show any error, you're good to go and run the other notebooks.\n",
    "\n",
    "## Resetting the configuration\n",
    "\n",
    "If you want to reset the configuration and start again, please uncomment and run the code below.\n",
    "You can also edit the [config/settings.json](config/settings.json) manually if you prefer."
   ]
  },
  {
   "cell_type": "code",
   "execution_count": 3,
   "metadata": {
    "dotnet_interactive": {
     "language": "csharp"
    },
    "polyglot_notebook": {
     "kernelName": "csharp"
    }
   },
   "outputs": [
    {
     "name": "stdout",
     "output_type": "stream",
     "text": [
      "Settings deleted. Run the notebook again to configure your AI backend.\r\n"
     ]
    }
   ],
   "source": [
    "#!import ../config/Settings.cs\n",
    "\n",
    "// Uncomment this line to reset your settings and delete the file from disk.\n",
    "// Settings.Reset();"
   ]
  }
 ],
 "metadata": {
  "kernelspec": {
   "display_name": ".NET (C#)",
   "language": "C#",
   "name": ".net-csharp"
  },
  "language_info": {
   "name": "polyglot-notebook"
  },
  "polyglot_notebook": {
   "kernelInfo": {
    "defaultKernelName": "csharp",
    "items": [
     {
      "aliases": [],
      "languageName": "csharp",
      "name": "csharp"
     }
    ]
   }
  }
 },
 "nbformat": 4,
 "nbformat_minor": 2
}
